{
  "nbformat": 4,
  "nbformat_minor": 0,
  "metadata": {
    "colab": {
      "provenance": []
    },
    "kernelspec": {
      "name": "python3",
      "display_name": "Python 3"
    },
    "language_info": {
      "name": "python"
    }
  },
  "cells": [
    {
      "cell_type": "code",
      "execution_count": null,
      "metadata": {
        "id": "IRVgcDkqyvq8"
      },
      "outputs": [],
      "source": [
        "nombre = input(\"ingresa tu nombre : \")\n",
        "edad = int(input (\"ingresa tu edad : \"))\n",
        "nombre = nombre.lower()\n",
        "\n",
        "\n",
        "if nombre[0] == \"a\" or nombre[0] == \"e\" or nombre[0] == \"i\" or nombre[0] == \"o\" or nombre[0] == \"u\":\n",
        "  if edad < 18:\n",
        "    print(\"eres grupo 1\")\n",
        "  else :\n",
        "    print(\"eres grupo 3\")\n",
        "elif nombre[0] != \"a\" or nombre[0] != \"e\" or nombre[0] != \"i\" or nombre[0] != \"o\" or nombre[0] != \"u\":\n",
        " if edad > 17:\n",
        "  print(\"eres grupo 2\")\n",
        " else :\n",
        "  print(\"eres grupo 3\")"
      ]
    },
    {
      "cell_type": "code",
      "source": [
        "pais = input(\"ingresa el pais :\")\n",
        "nombre = input(\"ingresa el nombre :\")\n",
        "pais = pais.lower()\n",
        "\n",
        "nombrel=len(nombre)\n",
        "print(nombrel)\n",
        "\n",
        "if pais == \"colombia\":\n",
        " if nombrel < 5:\n",
        "  print(\"colombia A\")\n",
        " else:\n",
        "  print(\"otros\")\n",
        "elif pais == \"mexico\":\n",
        "  if nombrel >= 5:\n",
        "   print(\"mexico B\")\n",
        "  else:\n",
        "    print(\"otros grupos\")\n",
        "else:\n",
        "  print(\"otros grupos\")\n",
        "\n"
      ],
      "metadata": {
        "colab": {
          "base_uri": "https://localhost:8080/"
        },
        "id": "cA9LnjtQB3HF",
        "outputId": "9d58b680-0904-4ee2-a2f2-9a618499f6d5"
      },
      "execution_count": null,
      "outputs": [
        {
          "output_type": "stream",
          "name": "stdout",
          "text": [
            "ingresa el pais :mexico\n",
            "ingresa el nombre :ds\n",
            "2\n",
            "otros grupos\n"
          ]
        }
      ]
    },
    {
      "cell_type": "code",
      "source": [],
      "metadata": {
        "id": "vxLTFU_EXf_y"
      },
      "execution_count": null,
      "outputs": []
    }
  ]
}